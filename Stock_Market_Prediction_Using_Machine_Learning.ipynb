{
  "nbformat": 4,
  "nbformat_minor": 0,
  "metadata": {
    "colab": {
      "provenance": [],
      "include_colab_link": true
    },
    "kernelspec": {
      "name": "python3",
      "display_name": "Python 3"
    },
    "language_info": {
      "name": "python"
    }
  },
  "cells": [
    {
      "cell_type": "markdown",
      "metadata": {
        "id": "view-in-github",
        "colab_type": "text"
      },
      "source": [
        "<a href=\"https://colab.research.google.com/github/NihalGadkari99/Stock-Market-Prediction-Using-Machine-Learning/blob/main/Stock_Market_Prediction_Using_Machine_Learning.ipynb\" target=\"_parent\"><img src=\"https://colab.research.google.com/assets/colab-badge.svg\" alt=\"Open In Colab\"/></a>"
      ]
    },
    {
      "cell_type": "markdown",
      "source": [
        "# **STOCK MARKET PREDICTION USING MACHINE LEARNING**\n",
        "\n"
      ],
      "metadata": {
        "id": "r9WcJ_V34Lr-"
      }
    },
    {
      "cell_type": "markdown",
      "source": [
        "**We Will Be Using A Keras Long Short-Term Memory (LSTM) Model To Predict The Stock Price Of Tata Global Beverages.**"
      ],
      "metadata": {
        "id": "HJiWNfEO4tBi"
      }
    },
    {
      "cell_type": "markdown",
      "source": [
        "**Here Are Some Imports We Need To Make: Numpy For Scientific Computation, Matplotlib For Graphing, And Pandas For Manipulating Data.**"
      ],
      "metadata": {
        "id": "xy0gcwLa4Er9"
      }
    },
    {
      "cell_type": "code",
      "execution_count": null,
      "metadata": {
        "id": "AW3zKm5IYtgB"
      },
      "outputs": [],
      "source": [
        "import numpy as np\n",
        "import matplotlib.pyplot as plt\n",
        "import pandas as pd "
      ]
    },
    {
      "cell_type": "markdown",
      "source": [
        "**Load Training Data Set With The \"Open\" And \"High\" Columns To Use In Our Modeling.**"
      ],
      "metadata": {
        "id": "_fZk7S5NvTRv"
      }
    },
    {
      "cell_type": "code",
      "source": [
        "url = 'https://raw.githubusercontent.com/mwitiderrick/stockprice/master/NSE-TATAGLOBAL.csv'\n",
        "dataset_train = pd.read_csv(url)\n",
        "training_set = dataset_train.iloc[:, 1:2].values"
      ],
      "metadata": {
        "id": "wCQvNZxMZA8L"
      },
      "execution_count": null,
      "outputs": []
    },
    {
      "cell_type": "markdown",
      "source": [
        "**Let's Take A Look At The First Five Rows Of Our Dataset.**"
      ],
      "metadata": {
        "id": "5ns53N-4vYk4"
      }
    },
    {
      "cell_type": "code",
      "source": [
        "dataset_train.head()"
      ],
      "metadata": {
        "colab": {
          "base_uri": "https://localhost:8080/",
          "height": 206
        },
        "id": "Dj_z9g09ZRsY",
        "outputId": "1de8f18d-b8af-4f81-d7f8-f1af4c7d44b5"
      },
      "execution_count": null,
      "outputs": [
        {
          "output_type": "execute_result",
          "data": {
            "text/plain": [
              "         Date    Open    High     Low    Last   Close  Total Trade Quantity  \\\n",
              "0  2018-09-28  234.05  235.95  230.20  233.50  233.75               3069914   \n",
              "1  2018-09-27  234.55  236.80  231.10  233.80  233.25               5082859   \n",
              "2  2018-09-26  240.00  240.00  232.50  235.00  234.25               2240909   \n",
              "3  2018-09-25  233.30  236.75  232.00  236.25  236.10               2349368   \n",
              "4  2018-09-24  233.55  239.20  230.75  234.00  233.30               3423509   \n",
              "\n",
              "   Turnover (Lacs)  \n",
              "0          7162.35  \n",
              "1         11859.95  \n",
              "2          5248.60  \n",
              "3          5503.90  \n",
              "4          7999.55  "
            ],
            "text/html": [
              "\n",
              "  <div id=\"df-0219696e-844a-4a77-ae4b-798dd8c73c5e\">\n",
              "    <div class=\"colab-df-container\">\n",
              "      <div>\n",
              "<style scoped>\n",
              "    .dataframe tbody tr th:only-of-type {\n",
              "        vertical-align: middle;\n",
              "    }\n",
              "\n",
              "    .dataframe tbody tr th {\n",
              "        vertical-align: top;\n",
              "    }\n",
              "\n",
              "    .dataframe thead th {\n",
              "        text-align: right;\n",
              "    }\n",
              "</style>\n",
              "<table border=\"1\" class=\"dataframe\">\n",
              "  <thead>\n",
              "    <tr style=\"text-align: right;\">\n",
              "      <th></th>\n",
              "      <th>Date</th>\n",
              "      <th>Open</th>\n",
              "      <th>High</th>\n",
              "      <th>Low</th>\n",
              "      <th>Last</th>\n",
              "      <th>Close</th>\n",
              "      <th>Total Trade Quantity</th>\n",
              "      <th>Turnover (Lacs)</th>\n",
              "    </tr>\n",
              "  </thead>\n",
              "  <tbody>\n",
              "    <tr>\n",
              "      <th>0</th>\n",
              "      <td>2018-09-28</td>\n",
              "      <td>234.05</td>\n",
              "      <td>235.95</td>\n",
              "      <td>230.20</td>\n",
              "      <td>233.50</td>\n",
              "      <td>233.75</td>\n",
              "      <td>3069914</td>\n",
              "      <td>7162.35</td>\n",
              "    </tr>\n",
              "    <tr>\n",
              "      <th>1</th>\n",
              "      <td>2018-09-27</td>\n",
              "      <td>234.55</td>\n",
              "      <td>236.80</td>\n",
              "      <td>231.10</td>\n",
              "      <td>233.80</td>\n",
              "      <td>233.25</td>\n",
              "      <td>5082859</td>\n",
              "      <td>11859.95</td>\n",
              "    </tr>\n",
              "    <tr>\n",
              "      <th>2</th>\n",
              "      <td>2018-09-26</td>\n",
              "      <td>240.00</td>\n",
              "      <td>240.00</td>\n",
              "      <td>232.50</td>\n",
              "      <td>235.00</td>\n",
              "      <td>234.25</td>\n",
              "      <td>2240909</td>\n",
              "      <td>5248.60</td>\n",
              "    </tr>\n",
              "    <tr>\n",
              "      <th>3</th>\n",
              "      <td>2018-09-25</td>\n",
              "      <td>233.30</td>\n",
              "      <td>236.75</td>\n",
              "      <td>232.00</td>\n",
              "      <td>236.25</td>\n",
              "      <td>236.10</td>\n",
              "      <td>2349368</td>\n",
              "      <td>5503.90</td>\n",
              "    </tr>\n",
              "    <tr>\n",
              "      <th>4</th>\n",
              "      <td>2018-09-24</td>\n",
              "      <td>233.55</td>\n",
              "      <td>239.20</td>\n",
              "      <td>230.75</td>\n",
              "      <td>234.00</td>\n",
              "      <td>233.30</td>\n",
              "      <td>3423509</td>\n",
              "      <td>7999.55</td>\n",
              "    </tr>\n",
              "  </tbody>\n",
              "</table>\n",
              "</div>\n",
              "      <button class=\"colab-df-convert\" onclick=\"convertToInteractive('df-0219696e-844a-4a77-ae4b-798dd8c73c5e')\"\n",
              "              title=\"Convert this dataframe to an interactive table.\"\n",
              "              style=\"display:none;\">\n",
              "        \n",
              "  <svg xmlns=\"http://www.w3.org/2000/svg\" height=\"24px\"viewBox=\"0 0 24 24\"\n",
              "       width=\"24px\">\n",
              "    <path d=\"M0 0h24v24H0V0z\" fill=\"none\"/>\n",
              "    <path d=\"M18.56 5.44l.94 2.06.94-2.06 2.06-.94-2.06-.94-.94-2.06-.94 2.06-2.06.94zm-11 1L8.5 8.5l.94-2.06 2.06-.94-2.06-.94L8.5 2.5l-.94 2.06-2.06.94zm10 10l.94 2.06.94-2.06 2.06-.94-2.06-.94-.94-2.06-.94 2.06-2.06.94z\"/><path d=\"M17.41 7.96l-1.37-1.37c-.4-.4-.92-.59-1.43-.59-.52 0-1.04.2-1.43.59L10.3 9.45l-7.72 7.72c-.78.78-.78 2.05 0 2.83L4 21.41c.39.39.9.59 1.41.59.51 0 1.02-.2 1.41-.59l7.78-7.78 2.81-2.81c.8-.78.8-2.07 0-2.86zM5.41 20L4 18.59l7.72-7.72 1.47 1.35L5.41 20z\"/>\n",
              "  </svg>\n",
              "      </button>\n",
              "      \n",
              "  <style>\n",
              "    .colab-df-container {\n",
              "      display:flex;\n",
              "      flex-wrap:wrap;\n",
              "      gap: 12px;\n",
              "    }\n",
              "\n",
              "    .colab-df-convert {\n",
              "      background-color: #E8F0FE;\n",
              "      border: none;\n",
              "      border-radius: 50%;\n",
              "      cursor: pointer;\n",
              "      display: none;\n",
              "      fill: #1967D2;\n",
              "      height: 32px;\n",
              "      padding: 0 0 0 0;\n",
              "      width: 32px;\n",
              "    }\n",
              "\n",
              "    .colab-df-convert:hover {\n",
              "      background-color: #E2EBFA;\n",
              "      box-shadow: 0px 1px 2px rgba(60, 64, 67, 0.3), 0px 1px 3px 1px rgba(60, 64, 67, 0.15);\n",
              "      fill: #174EA6;\n",
              "    }\n",
              "\n",
              "    [theme=dark] .colab-df-convert {\n",
              "      background-color: #3B4455;\n",
              "      fill: #D2E3FC;\n",
              "    }\n",
              "\n",
              "    [theme=dark] .colab-df-convert:hover {\n",
              "      background-color: #434B5C;\n",
              "      box-shadow: 0px 1px 3px 1px rgba(0, 0, 0, 0.15);\n",
              "      filter: drop-shadow(0px 1px 2px rgba(0, 0, 0, 0.3));\n",
              "      fill: #FFFFFF;\n",
              "    }\n",
              "  </style>\n",
              "\n",
              "      <script>\n",
              "        const buttonEl =\n",
              "          document.querySelector('#df-0219696e-844a-4a77-ae4b-798dd8c73c5e button.colab-df-convert');\n",
              "        buttonEl.style.display =\n",
              "          google.colab.kernel.accessAllowed ? 'block' : 'none';\n",
              "\n",
              "        async function convertToInteractive(key) {\n",
              "          const element = document.querySelector('#df-0219696e-844a-4a77-ae4b-798dd8c73c5e');\n",
              "          const dataTable =\n",
              "            await google.colab.kernel.invokeFunction('convertToInteractive',\n",
              "                                                     [key], {});\n",
              "          if (!dataTable) return;\n",
              "\n",
              "          const docLinkHtml = 'Like what you see? Visit the ' +\n",
              "            '<a target=\"_blank\" href=https://colab.research.google.com/notebooks/data_table.ipynb>data table notebook</a>'\n",
              "            + ' to learn more about interactive tables.';\n",
              "          element.innerHTML = '';\n",
              "          dataTable['output_type'] = 'display_data';\n",
              "          await google.colab.output.renderOutput(dataTable, element);\n",
              "          const docLink = document.createElement('div');\n",
              "          docLink.innerHTML = docLinkHtml;\n",
              "          element.appendChild(docLink);\n",
              "        }\n",
              "      </script>\n",
              "    </div>\n",
              "  </div>\n",
              "  "
            ]
          },
          "metadata": {},
          "execution_count": 3
        }
      ]
    },
    {
      "cell_type": "markdown",
      "source": [
        "**Import MinMaxScaler From Scikit-Learn To Scale Our Dataset Into Numbers Between 0 And 1.**"
      ],
      "metadata": {
        "id": "O6gvNu0_vdon"
      }
    },
    {
      "cell_type": "code",
      "source": [
        "from sklearn.preprocessing import MinMaxScaler\n",
        "sc = MinMaxScaler(feature_range=(0,1))\n",
        "training_set_scaled = sc.fit_transform(training_set)"
      ],
      "metadata": {
        "id": "JvEnFunbZcLl"
      },
      "execution_count": null,
      "outputs": []
    },
    {
      "cell_type": "markdown",
      "source": [
        "**We Want Our Data To Be In The Form Of A 3D Array For Our LSTM Model. First, We Create Data In 60 Timesteps And Convert It Into An Array Using NumPy. Then, We Convert The Data Into A 3D Array With X_train Samples, 60 Timestamps, And One Feature At Each Step.**"
      ],
      "metadata": {
        "id": "-RM2_bigvisX"
      }
    },
    {
      "cell_type": "code",
      "source": [
        "X_train = []\n",
        "y_train = []\n",
        "for i in range(60, 2035):\n",
        "    X_train.append(training_set_scaled[i-60:i, 0])\n",
        "    y_train.append(training_set_scaled[i, 0])\n",
        "X_train, y_train = np.array(X_train), np.array(y_train)\n",
        "\n",
        "X_train = np.reshape(X_train, (X_train.shape[0], X_train.shape[1], 1))"
      ],
      "metadata": {
        "id": "C-v5CwB-ZgfW"
      },
      "execution_count": null,
      "outputs": []
    },
    {
      "cell_type": "markdown",
      "source": [
        "**Make The Necessary Imports From Keras.**"
      ],
      "metadata": {
        "id": "r2W7PsJZvoz-"
      }
    },
    {
      "cell_type": "code",
      "source": [
        "from keras.models import Sequential\n",
        "from keras.layers import LSTM\n",
        "from keras.layers import Dropout\n",
        "from keras.layers import Dense "
      ],
      "metadata": {
        "id": "4i1JHF3fZj7G"
      },
      "execution_count": null,
      "outputs": []
    },
    {
      "cell_type": "markdown",
      "source": [
        "**Add LSTM Layer Along With Dropout Layers To Prevent Overfitting. After That, We Add A Dense Layer That Specifies A One Unit Output. Next, We Compile The Model Using The Adam Optimizer And Set The Loss As The Mean_Squarred_Error.**"
      ],
      "metadata": {
        "id": "DdPdB-dVvuOv"
      }
    },
    {
      "cell_type": "code",
      "source": [
        "model = Sequential()\n",
        "\n",
        "model.add(LSTM(units=50,return_sequences=True,input_shape=(X_train.shape[1], 1)))\n",
        "model.add(Dropout(0.2))\n",
        "\n",
        "model.add(LSTM(units=50,return_sequences=True))\n",
        "model.add(Dropout(0.2))\n",
        "\n",
        "model.add(LSTM(units=50,return_sequences=True))\n",
        "model.add(Dropout(0.2))\n",
        "\n",
        "model.add(LSTM(units=50))\n",
        "model.add(Dropout(0.2))\n",
        "\n",
        "model.add(Dense(units=1))\n",
        "\n",
        "model.compile(optimizer='adam',loss='mean_squared_error')\n",
        "\n",
        "model.fit(X_train,y_train,epochs=100,batch_size=32)"
      ],
      "metadata": {
        "id": "jXDVEokrZksm",
        "colab": {
          "base_uri": "https://localhost:8080/"
        },
        "outputId": "f070c0d7-7093-49f8-e436-da5ab800b7a5"
      },
      "execution_count": null,
      "outputs": [
        {
          "output_type": "stream",
          "name": "stdout",
          "text": [
            "Epoch 1/100\n",
            "62/62 [==============================] - 12s 86ms/step - loss: 0.0119\n",
            "Epoch 2/100\n",
            "62/62 [==============================] - 8s 128ms/step - loss: 0.0035\n",
            "Epoch 3/100\n",
            "62/62 [==============================] - 9s 153ms/step - loss: 0.0028\n",
            "Epoch 4/100\n",
            "62/62 [==============================] - 7s 112ms/step - loss: 0.0028\n",
            "Epoch 5/100\n",
            "62/62 [==============================] - 5s 88ms/step - loss: 0.0028\n",
            "Epoch 6/100\n",
            "62/62 [==============================] - 6s 91ms/step - loss: 0.0026\n",
            "Epoch 7/100\n",
            "62/62 [==============================] - 5s 88ms/step - loss: 0.0023\n",
            "Epoch 8/100\n",
            "62/62 [==============================] - 6s 90ms/step - loss: 0.0024\n",
            "Epoch 9/100\n",
            "62/62 [==============================] - 5s 87ms/step - loss: 0.0021\n",
            "Epoch 10/100\n",
            "62/62 [==============================] - 5s 84ms/step - loss: 0.0021\n",
            "Epoch 11/100\n",
            "62/62 [==============================] - 5s 87ms/step - loss: 0.0018\n",
            "Epoch 12/100\n",
            "62/62 [==============================] - 5s 86ms/step - loss: 0.0017\n",
            "Epoch 13/100\n",
            "62/62 [==============================] - 5s 88ms/step - loss: 0.0017\n",
            "Epoch 14/100\n",
            "62/62 [==============================] - 5s 86ms/step - loss: 0.0018\n",
            "Epoch 15/100\n",
            "62/62 [==============================] - 6s 95ms/step - loss: 0.0016\n",
            "Epoch 16/100\n",
            "62/62 [==============================] - 7s 108ms/step - loss: 0.0016\n",
            "Epoch 17/100\n",
            "62/62 [==============================] - 6s 89ms/step - loss: 0.0020\n",
            "Epoch 18/100\n",
            "62/62 [==============================] - 6s 90ms/step - loss: 0.0014\n",
            "Epoch 19/100\n",
            "62/62 [==============================] - 6s 89ms/step - loss: 0.0015\n",
            "Epoch 20/100\n",
            "62/62 [==============================] - 5s 87ms/step - loss: 0.0013\n",
            "Epoch 21/100\n",
            "62/62 [==============================] - 5s 88ms/step - loss: 0.0013\n",
            "Epoch 22/100\n",
            "62/62 [==============================] - 5s 87ms/step - loss: 0.0016\n",
            "Epoch 23/100\n",
            "62/62 [==============================] - 5s 86ms/step - loss: 0.0013\n",
            "Epoch 24/100\n",
            "62/62 [==============================] - 5s 89ms/step - loss: 0.0014\n",
            "Epoch 25/100\n",
            "62/62 [==============================] - 6s 90ms/step - loss: 0.0015\n",
            "Epoch 26/100\n",
            "62/62 [==============================] - 5s 84ms/step - loss: 0.0014\n",
            "Epoch 27/100\n",
            "62/62 [==============================] - 6s 89ms/step - loss: 0.0014\n",
            "Epoch 28/100\n",
            "62/62 [==============================] - 6s 94ms/step - loss: 0.0012\n",
            "Epoch 29/100\n",
            "62/62 [==============================] - 5s 87ms/step - loss: 0.0011\n",
            "Epoch 30/100\n",
            "62/62 [==============================] - 5s 88ms/step - loss: 0.0011\n",
            "Epoch 31/100\n",
            "62/62 [==============================] - 6s 89ms/step - loss: 0.0011\n",
            "Epoch 32/100\n",
            "62/62 [==============================] - 5s 88ms/step - loss: 0.0011\n",
            "Epoch 33/100\n",
            "62/62 [==============================] - 6s 93ms/step - loss: 0.0011\n",
            "Epoch 34/100\n",
            "62/62 [==============================] - 6s 89ms/step - loss: 0.0011\n",
            "Epoch 35/100\n",
            "62/62 [==============================] - 5s 87ms/step - loss: 9.9736e-04\n",
            "Epoch 36/100\n",
            "62/62 [==============================] - 6s 92ms/step - loss: 0.0011\n",
            "Epoch 37/100\n",
            "62/62 [==============================] - 5s 87ms/step - loss: 8.2564e-04\n",
            "Epoch 38/100\n",
            "62/62 [==============================] - 6s 91ms/step - loss: 9.5946e-04\n",
            "Epoch 39/100\n",
            "62/62 [==============================] - 6s 93ms/step - loss: 0.0010\n",
            "Epoch 40/100\n",
            "62/62 [==============================] - 6s 99ms/step - loss: 0.0010\n",
            "Epoch 41/100\n",
            "62/62 [==============================] - 5s 87ms/step - loss: 9.2475e-04\n",
            "Epoch 42/100\n",
            "62/62 [==============================] - 6s 92ms/step - loss: 9.3514e-04\n",
            "Epoch 43/100\n",
            "62/62 [==============================] - 5s 87ms/step - loss: 8.7572e-04\n",
            "Epoch 44/100\n",
            "62/62 [==============================] - 5s 88ms/step - loss: 0.0011\n",
            "Epoch 45/100\n",
            "62/62 [==============================] - 6s 93ms/step - loss: 7.8268e-04\n",
            "Epoch 46/100\n",
            "62/62 [==============================] - 6s 91ms/step - loss: 0.0010\n",
            "Epoch 47/100\n",
            "62/62 [==============================] - 6s 90ms/step - loss: 8.0899e-04\n",
            "Epoch 48/100\n",
            "62/62 [==============================] - 5s 86ms/step - loss: 0.0010\n",
            "Epoch 49/100\n",
            "62/62 [==============================] - 6s 90ms/step - loss: 8.2871e-04\n",
            "Epoch 50/100\n",
            "62/62 [==============================] - 6s 89ms/step - loss: 9.6290e-04\n",
            "Epoch 51/100\n",
            "62/62 [==============================] - 5s 86ms/step - loss: 9.6179e-04\n",
            "Epoch 52/100\n",
            "62/62 [==============================] - 5s 86ms/step - loss: 8.9419e-04\n",
            "Epoch 53/100\n",
            "62/62 [==============================] - 6s 100ms/step - loss: 8.0148e-04\n",
            "Epoch 54/100\n",
            "62/62 [==============================] - 6s 90ms/step - loss: 8.4873e-04\n",
            "Epoch 55/100\n",
            "62/62 [==============================] - 6s 89ms/step - loss: 8.6722e-04\n",
            "Epoch 56/100\n",
            "62/62 [==============================] - 6s 93ms/step - loss: 8.9404e-04\n",
            "Epoch 57/100\n",
            "62/62 [==============================] - 5s 88ms/step - loss: 8.7144e-04\n",
            "Epoch 58/100\n",
            "62/62 [==============================] - 6s 92ms/step - loss: 8.3732e-04\n",
            "Epoch 59/100\n",
            "62/62 [==============================] - 6s 90ms/step - loss: 7.8826e-04\n",
            "Epoch 60/100\n",
            "62/62 [==============================] - 5s 88ms/step - loss: 8.2141e-04\n",
            "Epoch 61/100\n",
            "62/62 [==============================] - 6s 90ms/step - loss: 8.7934e-04\n",
            "Epoch 62/100\n",
            "62/62 [==============================] - 6s 89ms/step - loss: 6.8862e-04\n",
            "Epoch 63/100\n",
            "62/62 [==============================] - 5s 87ms/step - loss: 7.8148e-04\n",
            "Epoch 64/100\n",
            "62/62 [==============================] - 5s 86ms/step - loss: 7.0696e-04\n",
            "Epoch 65/100\n",
            "62/62 [==============================] - 6s 95ms/step - loss: 6.4541e-04\n",
            "Epoch 66/100\n",
            "62/62 [==============================] - 6s 90ms/step - loss: 8.7952e-04\n",
            "Epoch 67/100\n",
            "62/62 [==============================] - 6s 89ms/step - loss: 8.2666e-04\n",
            "Epoch 68/100\n",
            "62/62 [==============================] - 5s 84ms/step - loss: 7.1481e-04\n",
            "Epoch 69/100\n",
            "62/62 [==============================] - 5s 85ms/step - loss: 6.9416e-04\n",
            "Epoch 70/100\n",
            "62/62 [==============================] - 6s 90ms/step - loss: 6.7052e-04\n",
            "Epoch 71/100\n",
            "62/62 [==============================] - 5s 88ms/step - loss: 6.6423e-04\n",
            "Epoch 72/100\n",
            "62/62 [==============================] - 6s 93ms/step - loss: 7.3884e-04\n",
            "Epoch 73/100\n",
            "62/62 [==============================] - 6s 91ms/step - loss: 7.8951e-04\n",
            "Epoch 74/100\n",
            "62/62 [==============================] - 5s 88ms/step - loss: 6.3962e-04\n",
            "Epoch 75/100\n",
            "62/62 [==============================] - 6s 91ms/step - loss: 7.3852e-04\n",
            "Epoch 76/100\n",
            "62/62 [==============================] - 5s 85ms/step - loss: 6.6166e-04\n",
            "Epoch 77/100\n",
            "62/62 [==============================] - 5s 87ms/step - loss: 7.2387e-04\n",
            "Epoch 78/100\n",
            "62/62 [==============================] - 6s 94ms/step - loss: 8.0039e-04\n",
            "Epoch 79/100\n",
            "62/62 [==============================] - 5s 89ms/step - loss: 6.0409e-04\n",
            "Epoch 80/100\n",
            "62/62 [==============================] - 5s 88ms/step - loss: 7.5587e-04\n",
            "Epoch 81/100\n",
            "62/62 [==============================] - 5s 87ms/step - loss: 7.2458e-04\n",
            "Epoch 82/100\n",
            "62/62 [==============================] - 6s 91ms/step - loss: 7.7339e-04\n",
            "Epoch 83/100\n",
            "62/62 [==============================] - 6s 92ms/step - loss: 6.6225e-04\n",
            "Epoch 84/100\n",
            "62/62 [==============================] - 5s 89ms/step - loss: 7.1578e-04\n",
            "Epoch 85/100\n",
            "62/62 [==============================] - 6s 90ms/step - loss: 6.6107e-04\n",
            "Epoch 86/100\n",
            "62/62 [==============================] - 5s 86ms/step - loss: 6.8442e-04\n",
            "Epoch 87/100\n",
            "62/62 [==============================] - 5s 87ms/step - loss: 6.9224e-04\n",
            "Epoch 88/100\n",
            "62/62 [==============================] - 6s 89ms/step - loss: 8.2325e-04\n",
            "Epoch 89/100\n",
            "62/62 [==============================] - 6s 90ms/step - loss: 6.8882e-04\n",
            "Epoch 90/100\n",
            "62/62 [==============================] - 6s 96ms/step - loss: 6.2981e-04\n",
            "Epoch 91/100\n",
            "62/62 [==============================] - 5s 84ms/step - loss: 6.3795e-04\n",
            "Epoch 92/100\n",
            "62/62 [==============================] - 5s 87ms/step - loss: 6.5834e-04\n",
            "Epoch 93/100\n",
            "62/62 [==============================] - 5s 87ms/step - loss: 6.9043e-04\n",
            "Epoch 94/100\n",
            "62/62 [==============================] - 6s 90ms/step - loss: 6.4201e-04\n",
            "Epoch 95/100\n",
            "62/62 [==============================] - 6s 89ms/step - loss: 6.8063e-04\n",
            "Epoch 96/100\n",
            "62/62 [==============================] - 5s 85ms/step - loss: 6.4603e-04\n",
            "Epoch 97/100\n",
            "62/62 [==============================] - 5s 85ms/step - loss: 6.5149e-04\n",
            "Epoch 98/100\n",
            "62/62 [==============================] - 6s 91ms/step - loss: 5.5467e-04\n",
            "Epoch 99/100\n",
            "62/62 [==============================] - 5s 89ms/step - loss: 5.9291e-04\n",
            "Epoch 100/100\n",
            "62/62 [==============================] - 5s 86ms/step - loss: 6.0249e-04\n"
          ]
        },
        {
          "output_type": "execute_result",
          "data": {
            "text/plain": [
              "<keras.callbacks.History at 0x7f8e5526da90>"
            ]
          },
          "metadata": {},
          "execution_count": 7
        }
      ]
    },
    {
      "cell_type": "markdown",
      "source": [
        "**Import the test set for the model to make predictions on**"
      ],
      "metadata": {
        "id": "76t-3LjgvzMu"
      }
    },
    {
      "cell_type": "code",
      "source": [
        "url = 'https://raw.githubusercontent.com/mwitiderrick/stockprice/master/tatatest.csv'\n",
        "dataset_test = pd.read_csv(url)\n",
        "real_stock_price = dataset_test.iloc[:, 1:2].values"
      ],
      "metadata": {
        "id": "Tjn1CGMkZvhF"
      },
      "execution_count": null,
      "outputs": []
    },
    {
      "cell_type": "markdown",
      "source": [
        "**Before Predicting Future Stock Prices, We Have To Manipulate The Training Set; We Merge The Training Set And The Test Set On The 0 Axis, Set The Time Step To 60, Use Minmaxscaler, And Reshape The Dataset As Done Previously. After Making Predictions, We Use Inverse_Transform To Get Back The Stock Prices In Normal Readable Format.**"
      ],
      "metadata": {
        "id": "l7oFOOrsv3_W"
      }
    },
    {
      "cell_type": "code",
      "source": [
        "dataset_total = pd.concat((dataset_train['Open'], dataset_test['Open']), axis = 0)\n",
        "inputs = dataset_total[len(dataset_total) - len(dataset_test) - 60:].values\n",
        "inputs = inputs.reshape(-1,1)\n",
        "inputs = sc.transform(inputs)\n",
        "X_test = []\n",
        "for i in range(60, 76):\n",
        "    X_test.append(inputs[i-60:i, 0])\n",
        "X_test = np.array(X_test)\n",
        "X_test = np.reshape(X_test, (X_test.shape[0], X_test.shape[1], 1))\n",
        "predicted_stock_price = model.predict(X_test)\n",
        "predicted_stock_price = sc.inverse_transform(predicted_stock_price)"
      ],
      "metadata": {
        "id": "EIgMnun4ZzD_",
        "colab": {
          "base_uri": "https://localhost:8080/"
        },
        "outputId": "07a9df33-4c2e-485d-b742-93d1b1a990c6"
      },
      "execution_count": null,
      "outputs": [
        {
          "output_type": "stream",
          "name": "stdout",
          "text": [
            "1/1 [==============================] - 2s 2s/step\n"
          ]
        }
      ]
    },
    {
      "cell_type": "markdown",
      "source": [
        "**Plot Our Predicted Stock Prices And The Actual Stock Price.**"
      ],
      "metadata": {
        "id": "A7Pf57UNv9HG"
      }
    },
    {
      "cell_type": "code",
      "source": [
        "plt.plot(real_stock_price, color = 'black', label = 'TATA Stock Price')\n",
        "plt.plot(predicted_stock_price, color = 'green', label = 'Predicted TATA Stock Price')\n",
        "plt.title('TATA Stock Price Prediction')\n",
        "plt.xlabel('Time')\n",
        "plt.ylabel('TATA Stock Price')\n",
        "plt.legend()\n",
        "plt.show()"
      ],
      "metadata": {
        "id": "WiJb4UIAZ2N7",
        "colab": {
          "base_uri": "https://localhost:8080/",
          "height": 295
        },
        "outputId": "7073cc2e-9eb7-4b2f-899c-8b6ccd4be81e"
      },
      "execution_count": null,
      "outputs": [
        {
          "output_type": "display_data",
          "data": {
            "text/plain": [
              "<Figure size 432x288 with 1 Axes>"
            ],
            "image/png": "[encoded data removed]"
          },
          "metadata": {
            "needs_background": "light"
          }
        }
      ]
    }
  ]
}